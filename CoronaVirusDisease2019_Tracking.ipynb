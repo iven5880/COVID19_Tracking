{
 "cells": [
  {
   "cell_type": "markdown",
   "metadata": {},
   "source": [
    "<br>\n",
    "<font size=7 color='blue' face='Candara'>\n",
    "    <center>\n",
    "        <b>Tracking CoronaVirus Around the World</b>\n",
    "    </center>\n",
    "</font>\n",
    "<br>"
   ]
  },
  {
   "cell_type": "code",
   "execution_count": 184,
   "metadata": {},
   "outputs": [],
   "source": [
    "%reset -f"
   ]
  },
  {
   "cell_type": "code",
   "execution_count": 185,
   "metadata": {},
   "outputs": [],
   "source": [
    "import matplotlib.pyplot as plt\n",
    "plt.style.use('seaborn')\n",
    "\n",
    "import numpy as np\n",
    "import pandas as pd\n",
    "\n",
    "from collections import Counter\n",
    "\n",
    "import re\n",
    "\n",
    "from ipywidgets import interact, interactive, widgets\n",
    "from IPython.display import display\n",
    "\n",
    "from colorama import Style, Fore, Back"
   ]
  },
  {
   "cell_type": "code",
   "execution_count": 186,
   "metadata": {},
   "outputs": [],
   "source": [
    "daysOfWeek = ['Monday', 'Tuesday', 'Wednesday', 'Thursday', 'Friday', 'Saturday', 'Sunday']\n",
    "monthsOfYear = ['Jan', 'Feb', 'Mar', 'Apr', 'May', 'Jun', 'Jul', 'Aug', 'Sep', 'Oct', 'Nov', 'Dec']\n",
    "\n",
    "def getFullDate(dtm):\n",
    "    wkdy = daysOfWeek[dtm.dayofweek][:3]\n",
    "    mth = monthsOfYear[dtm.month - 1]\n",
    "    dy = str(dtm.day)\n",
    "    if len(dy)==1:\n",
    "        dy = '0'+dy\n",
    "    yr = str(dtm.year)\n",
    "    return (wkdy+', '+mth+' '+dy+' '+yr)"
   ]
  },
  {
   "cell_type": "markdown",
   "metadata": {},
   "source": [
    "## Load Datasets"
   ]
  },
  {
   "cell_type": "code",
   "execution_count": 187,
   "metadata": {},
   "outputs": [],
   "source": [
    "urlGlobalConf = 'https://raw.githubusercontent.com/CSSEGISandData/COVID-19/master/csse_covid_19_data/csse_covid_19_time_series/time_series_covid19_confirmed_global.csv'\n",
    "urlGlobalDeaths = 'https://raw.githubusercontent.com/CSSEGISandData/COVID-19/master/csse_covid_19_data/csse_covid_19_time_series/time_series_covid19_deaths_global.csv'\n",
    "urlGlobalRecovery = 'https://raw.githubusercontent.com/CSSEGISandData/COVID-19/master/csse_covid_19_data/csse_covid_19_time_series/time_series_covid19_recovered_global.csv'\n",
    "\n",
    "dfConfGlobal = pd.read_csv(urlGlobalConf)\n",
    "dfDeadGlobal = pd.read_csv(urlGlobalDeaths)\n",
    "dfRecGlobal = pd.read_csv(urlGlobalRecovery)\n",
    "\n",
    "# dfConfGlobal = pd.read_csv('time_series_covid19_confirmed_global.csv')\n",
    "# dfDeadGlobal = pd.read_csv('time_series_covid19_deaths_global.csv')\n",
    "# dfRecGlobal = pd.read_csv('time_series_covid19_recovered_global.csv')\n",
    "\n",
    "theDatesGlobal = re.findall(pattern='[0-9]{1,2}/[0-9]{1,2}/[0-9]{1,2}', string=str(dfConfGlobal.columns))\n",
    "\n",
    "# =======================================================================================================================\n",
    "\n",
    "colsToDrop = ['Lat','Long_', 'iso2', 'iso3', 'code3', 'UID', 'FIPS']\n",
    "\n",
    "urlConfUS = 'https://raw.githubusercontent.com/CSSEGISandData/COVID-19/master/csse_covid_19_data/csse_covid_19_time_series/time_series_covid19_confirmed_US.csv'\n",
    "urlDeathsUS = 'https://raw.githubusercontent.com/CSSEGISandData/COVID-19/master/csse_covid_19_data/csse_covid_19_time_series/time_series_covid19_deaths_US.csv'\n",
    "\n",
    "dfConfUS = pd.read_csv(urlConfUS)\n",
    "dfDeadUS = pd.read_csv(urlDeathsUS)\n",
    "\n",
    "# dfConfUS = pd.read_csv('time_series_covid19_confirmed_US.csv')\n",
    "# dfConfUS = dfConfUS.drop(colsToDrop, axis=1)\n",
    "\n",
    "# dfDeadUS = pd.read_csv('time_series_covid19_deaths_US.csv')\n",
    "# dfDeadUS = dfDeadUS.drop(colsToDrop, axis=1)\n",
    "\n",
    "theDatesUS = re.findall(pattern='[0-9]{1,2}/[0-9]{1,2}/[0-9]{1,2}', string=str(dfConfUS.columns))"
   ]
  },
  {
   "cell_type": "markdown",
   "metadata": {},
   "source": [
    "## Summary from Latest Global Data"
   ]
  },
  {
   "cell_type": "code",
   "execution_count": 188,
   "metadata": {},
   "outputs": [
    {
     "data": {
      "application/vnd.jupyter.widget-view+json": {
       "model_id": "17114bc284c541ee9f77da62fa15d4f6",
       "version_major": 2,
       "version_minor": 0
      },
      "text/plain": [
       "interactive(children=(Dropdown(description='Country', options=('Afghanistan', 'Albania', 'Algeria', 'Andorra',…"
      ]
     },
     "metadata": {},
     "output_type": "display_data"
    }
   ],
   "source": [
    "def getCountrySummary_New(Country):\n",
    "    \n",
    "    idx = [True if i==Country else False for i in dfConfGlobal['Country/Region']]\n",
    "    cdf = dfConfGlobal[idx]\n",
    "\n",
    "    idx = [True if i==Country else False for i in dfDeadGlobal['Country/Region']]\n",
    "    ddf = dfDeadGlobal[idx]\n",
    "\n",
    "    idx = [True if i==Country else False for i in dfRecGlobal['Country/Region']]\n",
    "    rdf = dfRecGlobal[idx]\n",
    "\n",
    "    cc = cdf[theDatesGlobal[-1]].sum()\n",
    "    dd = ddf[theDatesGlobal[-1]].sum()\n",
    "    rr = rdf[theDatesGlobal[-1]].sum()\n",
    "    \n",
    "    print('Figures at a Glance (' + Country + ')\\n\\tConfirmed:\\t', cc, '\\n\\tDeaths:\\t\\t', dd, '\\n\\tRecovered:\\t', rr)\n",
    "\n",
    "# ====================================================================================\n",
    "\n",
    "summaryCountryList = sorted(list(set(dfConfGlobal['Country/Region'])))\n",
    "\n",
    "interact(getCountrySummary_New, Country=summaryCountryList);"
   ]
  },
  {
   "cell_type": "code",
   "execution_count": 189,
   "metadata": {},
   "outputs": [
    {
     "data": {
      "application/vnd.jupyter.widget-view+json": {
       "model_id": "c6191290249f4fc8bb9f9821b3d00d5f",
       "version_major": 2,
       "version_minor": 0
      },
      "text/plain": [
       "interactive(children=(Dropdown(description='Sort_By', options=('Confirmed', 'Deaths', 'Recoveries', 'Death_Rat…"
      ]
     },
     "metadata": {},
     "output_type": "display_data"
    }
   ],
   "source": [
    "def getCountryTotals_New(Sort_By):\n",
    "    res = []\n",
    "    for cntry in set(dfConfGlobal['Country/Region']):\n",
    "        \n",
    "        idx = [True if i==cntry else False for i in dfConfGlobal['Country/Region']]\n",
    "        cdf = dfConfGlobal[idx]\n",
    "        \n",
    "        idx = [True if i==cntry else False for i in dfDeadGlobal['Country/Region']]\n",
    "        ddf = dfDeadGlobal[idx]\n",
    "        \n",
    "        idx = [True if i==cntry else False for i in dfRecGlobal['Country/Region']]\n",
    "        rdf = dfRecGlobal[idx]\n",
    "        \n",
    "        cc = cdf[theDatesGlobal[-1]].sum()\n",
    "        dd = ddf[theDatesGlobal[-1]].sum()\n",
    "        rr = rdf[theDatesGlobal[-1]].sum()\n",
    "        deathRate = round(dd/cc, 2)\n",
    "        recoveryRate = round(rr/cc, 2)\n",
    "        \n",
    "        res.append( (cntry, cc, dd, rr, deathRate, recoveryRate) )\n",
    "        \n",
    "    sorter = {'Confirmed': 1, 'Deaths': 2, 'Recoveries': 3, 'Death_Rate': 4, 'Recovery_Rate': 5}\n",
    "    res = sorted(res, key=lambda x:x[sorter[Sort_By]], reverse=True)\n",
    "    return pd.DataFrame(res, columns=['Country', 'Cases', 'Deaths', 'Recoveries', 'Death_Rate', 'Recovery_Rate']).head(26)\n",
    "\n",
    "# ==================================================================\n",
    "\n",
    "sortList = ['Confirmed', 'Deaths', 'Recoveries', 'Death_Rate', 'Recovery_Rate']\n",
    "\n",
    "interact(getCountryTotals_New, Sort_By=sortList);"
   ]
  },
  {
   "cell_type": "markdown",
   "metadata": {},
   "source": [
    "## Global COVID Data"
   ]
  },
  {
   "cell_type": "code",
   "execution_count": 190,
   "metadata": {},
   "outputs": [],
   "source": [
    "# function to plot the country-level outcomes (cases/deaths/recoveries)\n",
    "\n",
    "def plotGlobalOutcome(thisCountry, thisOutcome='cases'):\n",
    "    \n",
    "    if thisOutcome=='death':\n",
    "        idx = [True if (i==thisCountry) else False for i in dfDeadGlobal['Country/Region']]\n",
    "        df = dfDeadGlobal[idx]\n",
    "        theOutcome = 'Deaths'\n",
    "        theColor = 'red'\n",
    "    elif thisOutcome=='recovery':\n",
    "        idx = [True if (i==thisCountry) else False for i in dfRecGlobal['Country/Region']]\n",
    "        df = dfRecGlobal[idx]\n",
    "        theOutcome = 'Recoveries'\n",
    "        theColor = 'C0'\n",
    "    else:\n",
    "        idx = [True if (i==thisCountry) else False for i in dfConfGlobal['Country/Region']]\n",
    "        df = dfConfGlobal[idx]\n",
    "        theOutcome = 'Cases'\n",
    "        theColor = 'C1'\n",
    "\n",
    "    res = []\n",
    "\n",
    "    for i in theDatesGlobal:\n",
    "        ss = df[i].sum()\n",
    "        res.append( (i, ss) )\n",
    "\n",
    "    theCountry = list(set(df['Country/Region']))[0]\n",
    "\n",
    "    px = [i[0] for i in res]\n",
    "    py = [i[1] for i in res]\n",
    "\n",
    "    plt.figure(figsize=[22,10])\n",
    "    plt.bar(px,py, color=theColor)\n",
    "    plt.xticks(ticks=range(len(px)), labels=[getFullDate(i) for i in pd.to_datetime(px)], fontsize=15, rotation=90)\n",
    "    plt.yticks(fontsize=25, rotation=0)\n",
    "    plt.ylabel('# '+theOutcome, fontsize=30)\n",
    "    plt.title('Confirmed ' + theOutcome + ' in ' + theCountry, fontsize=35)\n",
    "    plt.show()"
   ]
  },
  {
   "cell_type": "code",
   "execution_count": 191,
   "metadata": {},
   "outputs": [],
   "source": [
    "# function to plot the country-level curves (active cases)\n",
    "\n",
    "def plotCurveGlobal(thisCountry):\n",
    "    \n",
    "    idx = [True if i==thisCountry else False for i in dfConfGlobal['Country/Region']]\n",
    "    cdf = dfConfGlobal[idx]\n",
    "    \n",
    "    idx = [True if i==thisCountry else False for i in dfDeadGlobal['Country/Region']]\n",
    "    ddf = dfDeadGlobal[idx]\n",
    "    \n",
    "    idx = [True if i==thisCountry else False for i in dfRecGlobal['Country/Region']]\n",
    "    rdf = dfRecGlobal[idx]\n",
    "\n",
    "    res = []\n",
    "\n",
    "    for dt in theDatesGlobal:\n",
    "        ss = cdf[dt].sum() - ddf[dt].sum() - rdf[dt].sum()\n",
    "        res.append( (dt, ss) )\n",
    "\n",
    "    theCountry = list(set(cdf['Country/Region']))[0]\n",
    "\n",
    "    px = [i[0] for i in res]\n",
    "    py = [i[1] for i in res]\n",
    "\n",
    "    plt.figure(figsize=[22,10])\n",
    "    plt.bar(px,py, color='C4')\n",
    "    plt.xticks(ticks=range(len(px)), labels=[getFullDate(i) for i in pd.to_datetime(px)], fontsize=15, rotation=90)\n",
    "    plt.yticks(fontsize=25, rotation=0)\n",
    "    plt.ylabel('# Active Cases', fontsize=30)\n",
    "    plt.title('Active Cases in ' + theCountry, fontsize=35)\n",
    "    plt.show()"
   ]
  },
  {
   "cell_type": "code",
   "execution_count": 192,
   "metadata": {
    "scrolled": false
   },
   "outputs": [
    {
     "data": {
      "application/vnd.jupyter.widget-view+json": {
       "model_id": "18fc1bce7e9240c2895085fb2d9614f1",
       "version_major": 2,
       "version_minor": 0
      },
      "text/plain": [
       "interactive(children=(Dropdown(description='Country', options=('Afghanistan', 'Albania', 'Algeria', 'Andorra',…"
      ]
     },
     "metadata": {},
     "output_type": "display_data"
    }
   ],
   "source": [
    "def showCountry(Country):\n",
    "    plotGlobalOutcome(Country)\n",
    "    plotGlobalOutcome(Country, 'death')\n",
    "    plotGlobalOutcome(Country, 'recovery')\n",
    "\n",
    "theCountryList = sorted(list(set(dfRecGlobal['Country/Region'])))\n",
    "\n",
    "interact(showCountry, Country=theCountryList);"
   ]
  },
  {
   "cell_type": "code",
   "execution_count": 193,
   "metadata": {
    "scrolled": false
   },
   "outputs": [
    {
     "data": {
      "application/vnd.jupyter.widget-view+json": {
       "model_id": "689273eadf9f42089486f61c2e81f36e",
       "version_major": 2,
       "version_minor": 0
      },
      "text/plain": [
       "interactive(children=(Dropdown(description='Country', options=('Afghanistan', 'Albania', 'Algeria', 'Andorra',…"
      ]
     },
     "metadata": {},
     "output_type": "display_data"
    }
   ],
   "source": [
    "def showCurve(Country):\n",
    "    plotCurveGlobal(Country)\n",
    "\n",
    "theCountryList = sorted(list(set(dfRecGlobal['Country/Region'])))\n",
    "\n",
    "interact(showCurve, Country=theCountryList);"
   ]
  },
  {
   "cell_type": "markdown",
   "metadata": {},
   "source": [
    "## USA COVID Data"
   ]
  },
  {
   "cell_type": "code",
   "execution_count": 194,
   "metadata": {},
   "outputs": [],
   "source": [
    "# function to plot the state-level outcomes (cases/deaths)\n",
    "\n",
    "def plotOutcome(thisState, thisOutcome='cases'):\n",
    "    \n",
    "    if thisOutcome=='deaths':\n",
    "        idx = [True if (i==thisState) else False for i in dfDeadUS['Province_State']]\n",
    "        df = dfDeadUS[idx]\n",
    "        theOutcome = 'Deaths'\n",
    "        theColor = 'red'\n",
    "    else:\n",
    "        idx = [True if (i==thisState) else False for i in dfConfUS['Province_State']]\n",
    "        df = dfConfUS[idx]\n",
    "        theOutcome = 'Cases'\n",
    "        theColor = 'C1'\n",
    "\n",
    "    res = []\n",
    "\n",
    "    for i in theDatesUS:\n",
    "        ss = df[i].sum()\n",
    "        res.append( (i, ss) )\n",
    "\n",
    "    px = [i[0] for i in res]\n",
    "    py = [i[1] for i in res]\n",
    "\n",
    "    plt.figure(figsize=[22,10])\n",
    "    plt.bar(px,py, color=theColor)\n",
    "    plt.xticks(ticks=range(len(px)), labels=[getFullDate(i) for i in pd.to_datetime(px)], fontsize=15, rotation=90)\n",
    "    plt.yticks(fontsize=25, rotation=0)\n",
    "    plt.ylabel('# '+theOutcome, fontsize=30)\n",
    "    plt.title('Confirmed ' + theOutcome + ' in ' + thisState, fontsize=35)\n",
    "    plt.show()"
   ]
  },
  {
   "cell_type": "code",
   "execution_count": 195,
   "metadata": {},
   "outputs": [
    {
     "data": {
      "application/vnd.jupyter.widget-view+json": {
       "model_id": "738361102fd146ee8db1c836792524ff",
       "version_major": 2,
       "version_minor": 0
      },
      "text/plain": [
       "interactive(children=(Dropdown(description='State', options=('Alabama', 'Alaska', 'American Samoa', 'Arizona',…"
      ]
     },
     "metadata": {},
     "output_type": "display_data"
    }
   ],
   "source": [
    "theStateList = sorted(list(set(dfConfUS['Province_State'])))\n",
    "\n",
    "def showState(State):\n",
    "    plotOutcome(State, thisOutcome='cases')\n",
    "    plotOutcome(State, thisOutcome='deaths')\n",
    "\n",
    "interact(showState, State=theStateList);"
   ]
  },
  {
   "cell_type": "markdown",
   "metadata": {},
   "source": [
    "## Texas COVID Data"
   ]
  },
  {
   "cell_type": "code",
   "execution_count": 196,
   "metadata": {},
   "outputs": [],
   "source": [
    "idx = [True if i=='Texas' else False for i in dfConfUS['Province_State']]\n",
    "dfConfTexas = dfConfUS[idx]\n",
    "\n",
    "idx = [True if i=='Texas' else False for i in dfDeadUS['Province_State']]\n",
    "dfDeadTexas = dfDeadUS[idx]\n",
    "\n",
    "theDatesTexas = re.findall(pattern='[0-9]{1,2}/[0-9]{1,2}/[0-9]{1,2}', string=str(dfConfTexas.columns))"
   ]
  },
  {
   "cell_type": "code",
   "execution_count": 197,
   "metadata": {},
   "outputs": [],
   "source": [
    "# function to plot the county-level outcomes (cases/deaths) for Texas\n",
    "\n",
    "def plotTexasCountyOutcome(County):\n",
    "    \n",
    "    idx = [True if (i==County) else False for i in dfConfTexas['Admin2']]\n",
    "    cdf = dfConfTexas[idx]\n",
    "    \n",
    "    idx = [True if (i==County) else False for i in dfDeadTexas['Admin2']]\n",
    "    ddf = dfDeadTexas[idx]\n",
    "\n",
    "    res = []\n",
    "\n",
    "    for i in theDatesTexas:\n",
    "        cc = cdf[i].sum()\n",
    "        dd = ddf[i].sum()\n",
    "        res.append( (i, cc, dd) )\n",
    "\n",
    "    px = [i[0] for i in res]\n",
    "    py = [i[1] for i in res]\n",
    "    pz = [i[2] for i in res]\n",
    "\n",
    "    plt.figure(figsize=[22,10])\n",
    "    plt.plot(px,py, color='C1', linewidth=5)\n",
    "    plt.xticks(ticks=range(len(px)), labels=[getFullDate(i) for i in pd.to_datetime(px)], fontsize=15, rotation=90)\n",
    "    plt.yticks(fontsize=25, rotation=0)\n",
    "    plt.ylabel('# Cases', fontsize=30)\n",
    "    plt.title('Confirmed Cases in ' + County.upper() + ' County', fontsize=35)\n",
    "    plt.show()\n",
    "    \n",
    "    plt.figure(figsize=[22,10])\n",
    "    plt.plot(px,pz, color='red', linewidth=5)\n",
    "    plt.xticks(ticks=range(len(px)), labels=[getFullDate(i) for i in pd.to_datetime(px)], fontsize=15, rotation=90)\n",
    "    plt.yticks(fontsize=25, rotation=0)\n",
    "    plt.ylabel('# Deaths', fontsize=30)\n",
    "    plt.title('Confirmed Deaths in ' + County.upper() + ' County', fontsize=35)\n",
    "    plt.show()"
   ]
  },
  {
   "cell_type": "code",
   "execution_count": 198,
   "metadata": {},
   "outputs": [
    {
     "data": {
      "application/vnd.jupyter.widget-view+json": {
       "model_id": "f7bcb53d064e4769a4c519f60fa4245a",
       "version_major": 2,
       "version_minor": 0
      },
      "text/plain": [
       "interactive(children=(Dropdown(description='County', options=('Anderson', 'Andrews', 'Angelina', 'Aransas', 'A…"
      ]
     },
     "metadata": {},
     "output_type": "display_data"
    }
   ],
   "source": [
    "theCountyList = sorted(list(set(dfConfTexas['Admin2'])))\n",
    "\n",
    "interact(plotTexasCountyOutcome, County=theCountyList);"
   ]
  },
  {
   "cell_type": "markdown",
   "metadata": {},
   "source": [
    "## COVID Reports for States and Counties"
   ]
  },
  {
   "cell_type": "code",
   "execution_count": 199,
   "metadata": {},
   "outputs": [],
   "source": [
    "xdf = dfConfUS.copy()\n",
    "zdf = dfDeadUS.copy()\n",
    "\n",
    "xdf['Admin2'] = ['Unknown_'+i[0] if i[1]!=i[1] else i[1] for i in zip(xdf['Province_State'], xdf['Admin2'])]\n",
    "zdf['Admin2'] = ['Unknown_'+i[0] if i[1]!=i[1] else i[1] for i in zip(zdf['Province_State'], zdf['Admin2'])]"
   ]
  },
  {
   "cell_type": "code",
   "execution_count": 200,
   "metadata": {},
   "outputs": [],
   "source": [
    "# function to plot the county-level outcomes (cases/deaths) for US States\n",
    "\n",
    "def plotStateCountyOutcome(State, County):\n",
    "    \n",
    "    idx = [True if i==State else False for i in xdf['Province_State']]\n",
    "    cdf = xdf[idx]\n",
    "    \n",
    "    idx = [True if i==State else False for i in zdf['Province_State']]\n",
    "    ddf = zdf[idx]\n",
    "    \n",
    "    if County not in list(cdf['Admin2']):\n",
    "        County = np.random.choice(cdf['Admin2'])\n",
    "    \n",
    "    idx = [True if (i==County) else False for i in cdf['Admin2']]\n",
    "    cdf = cdf[idx]\n",
    "    \n",
    "    idx = [True if (i==County) else False for i in ddf['Admin2']]\n",
    "    ddf = ddf[idx]\n",
    "\n",
    "    res = []\n",
    "\n",
    "    for i in theDatesUS:\n",
    "        cc = cdf[i].sum()\n",
    "        dd = ddf[i].sum()\n",
    "        res.append( (i, cc, dd) )\n",
    "\n",
    "    px = [i[0] for i in res]\n",
    "    py = [i[1] for i in res]\n",
    "    pz = [i[2] for i in res]\n",
    "\n",
    "    plt.figure(figsize=[22,10])\n",
    "    plt.plot(px,py, color='C1', linewidth=5)\n",
    "    plt.xticks(ticks=range(len(px)), labels=[getFullDate(i) for i in pd.to_datetime(px)], fontsize=15, rotation=90)\n",
    "    plt.yticks(fontsize=25, rotation=0)\n",
    "    plt.ylabel('# Cases', fontsize=30)\n",
    "    plt.title('Confirmed Cases in ' + County.upper() + ' County, '+State.upper(), fontsize=35)\n",
    "    plt.show()\n",
    "    \n",
    "    plt.figure(figsize=[22,10])\n",
    "    plt.plot(px,pz, color='red', linewidth=5)\n",
    "    plt.xticks(ticks=range(len(px)), labels=[getFullDate(i) for i in pd.to_datetime(px)], fontsize=15, rotation=90)\n",
    "    plt.yticks(fontsize=25, rotation=0)\n",
    "    plt.ylabel('# Deaths', fontsize=30)\n",
    "    plt.title('Confirmed Deaths in ' + County.upper() + ' County, '+State.upper(), fontsize=35)\n",
    "    plt.show()"
   ]
  },
  {
   "cell_type": "code",
   "execution_count": 201,
   "metadata": {},
   "outputs": [],
   "source": [
    "tt = zip(dfConfUS['Province_State'], dfConfUS['Admin2'])\n",
    "tt = [(i,j) if j==j else (i, 'Unknown_'+i) for i,j in tt]\n",
    "\n",
    "dictLoc = dict()\n",
    "\n",
    "for i in tt:\n",
    "    try:\n",
    "        dictLoc[i[0]].append(i[1])\n",
    "    except KeyError:\n",
    "        dictLoc[i[0]] = [i[1]]"
   ]
  },
  {
   "cell_type": "code",
   "execution_count": 202,
   "metadata": {
    "scrolled": false
   },
   "outputs": [
    {
     "data": {
      "application/vnd.jupyter.widget-view+json": {
       "model_id": "ad793d7fb62142eebe28e1d73c92afb4",
       "version_major": 2,
       "version_minor": 0
      },
      "text/plain": [
       "interactive(children=(Dropdown(description='State', options=('American Samoa', 'Guam', 'Northern Mariana Islan…"
      ]
     },
     "metadata": {},
     "output_type": "display_data"
    },
    {
     "data": {
      "application/vnd.jupyter.widget-view+json": {
       "model_id": "c067a0346eca46bb80640c8554c7a619",
       "version_major": 2,
       "version_minor": 0
      },
      "text/plain": [
       "interactive(children=(Dropdown(description='County', options=('Unknown_American Samoa',), value='Unknown_Ameri…"
      ]
     },
     "metadata": {},
     "output_type": "display_data"
    }
   ],
   "source": [
    "def populateCounties(State):\n",
    "    countyOptions.options = dictLoc[State]\n",
    "\n",
    "def plotCounty(County):\n",
    "    plotStateCountyOutcome(i.kwargs['State'], County)\n",
    "\n",
    "stateOptions = widgets.Dropdown(options=dictLoc.keys())\n",
    "# defaultState = stateOptions.value\n",
    "\n",
    "# countyOptions = widgets.Dropdown(options=dictLoc[defaultState])\n",
    "countyOptions = widgets.Dropdown()\n",
    "\n",
    "i = interactive(populateCounties, State=stateOptions)\n",
    "j = interactive(plotCounty, County=countyOptions)\n",
    "\n",
    "display(i)\n",
    "display(j)"
   ]
  },
  {
   "cell_type": "code",
   "execution_count": null,
   "metadata": {},
   "outputs": [],
   "source": []
  }
 ],
 "metadata": {
  "kernelspec": {
   "display_name": "Python 3",
   "language": "python",
   "name": "python3"
  },
  "language_info": {
   "codemirror_mode": {
    "name": "ipython",
    "version": 3
   },
   "file_extension": ".py",
   "mimetype": "text/x-python",
   "name": "python",
   "nbconvert_exporter": "python",
   "pygments_lexer": "ipython3",
   "version": "3.7.1"
  }
 },
 "nbformat": 4,
 "nbformat_minor": 2
}
